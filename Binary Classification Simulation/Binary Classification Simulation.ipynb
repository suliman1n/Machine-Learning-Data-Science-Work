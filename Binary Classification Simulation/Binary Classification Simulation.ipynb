{
 "cells": [
  {
   "cell_type": "code",
   "execution_count": 1,
   "id": "3232f478",
   "metadata": {},
   "outputs": [],
   "source": [
    "import pandas as pd\n",
    "import numpy as np"
   ]
  },
  {
   "cell_type": "code",
   "execution_count": 2,
   "id": "58086206",
   "metadata": {},
   "outputs": [
    {
     "data": {
      "text/plain": [
       "array([0, 0, 0, 0, 0, 0, 0, 0, 1, 1])"
      ]
     },
     "execution_count": 2,
     "metadata": {},
     "output_type": "execute_result"
    }
   ],
   "source": [
    "#(a)(i):# assume 1 is incorrectly classified and 0 is correctly classified\n",
    "Dataset=np.random.choice([1,0],10, p=list([0.2,0.8]))\n",
    "Dataset"
   ]
  },
  {
   "cell_type": "code",
   "execution_count": 3,
   "id": "3968676e",
   "metadata": {},
   "outputs": [],
   "source": [
    "## the function that will output the results of question b for diffferent u and N\n",
    "def get_results(u,N):\n",
    "    pr_error_list=[]\n",
    "    for i in range(100):\n",
    "        counter=0\n",
    "        Dataset=np.random.choice([1,0],N, p=list([u,1-u]))\n",
    "        for j in range(len(Dataset)):\n",
    "            if Dataset[j]==1:\n",
    "                counter=counter+1\n",
    "               \n",
    "        pr_error_list.append(counter/len(Dataset))\n",
    "    \n",
    "    print('maximum error occured is',np.max(pr_error_list),'\\nminimum error occured is',np.min(pr_error_list),\n",
    "     '\\nsample mean error is',np.mean(pr_error_list),'\\nsample standard deviation is',np.std(pr_error_list))\n",
    "    counter=0\n",
    "    for i in range(len(pr_error_list)):\n",
    "        if pr_error_list[i]==u:\n",
    "            counter=counter+1\n",
    "    print('there are',counter,'runs with probablity of error=',u)\n",
    "    print('there are',100-counter,'runs with probablity of error not equal',u)\n",
    "    \n",
    "    counter=0\n",
    "    for i in range(len(pr_error_list)):\n",
    "        if abs(pr_error_list[i]-u)<0.05:\n",
    "            counter=counter+1\n",
    "\n",
    "    print('(iii)estimated probability is',counter/100)\n",
    "    return pr_error_list"
   ]
  },
  {
   "cell_type": "code",
   "execution_count": 4,
   "id": "a9a2cebf",
   "metadata": {},
   "outputs": [
    {
     "name": "stdout",
     "output_type": "stream",
     "text": [
      "maximum error occured is 0.5 \n",
      "minimum error occured is 0.0 \n",
      "sample mean error is 0.191 \n",
      "sample standard deviation is 0.12090905673273611\n",
      "there are 32 runs with probablity of error= 0.2\n",
      "there are 68 runs with probablity of error not equal 0.2\n",
      "(iii)estimated probability is 0.32\n"
     ]
    },
    {
     "data": {
      "text/plain": [
       "[0.4,\n",
       " 0.4,\n",
       " 0.3,\n",
       " 0.3,\n",
       " 0.3,\n",
       " 0.2,\n",
       " 0.2,\n",
       " 0.2,\n",
       " 0.0,\n",
       " 0.1,\n",
       " 0.3,\n",
       " 0.2,\n",
       " 0.2,\n",
       " 0.1,\n",
       " 0.3,\n",
       " 0.3,\n",
       " 0.4,\n",
       " 0.3,\n",
       " 0.3,\n",
       " 0.1,\n",
       " 0.2,\n",
       " 0.0,\n",
       " 0.3,\n",
       " 0.0,\n",
       " 0.1,\n",
       " 0.0,\n",
       " 0.2,\n",
       " 0.0,\n",
       " 0.2,\n",
       " 0.1,\n",
       " 0.3,\n",
       " 0.1,\n",
       " 0.3,\n",
       " 0.1,\n",
       " 0.4,\n",
       " 0.2,\n",
       " 0.1,\n",
       " 0.2,\n",
       " 0.2,\n",
       " 0.1,\n",
       " 0.2,\n",
       " 0.2,\n",
       " 0.2,\n",
       " 0.0,\n",
       " 0.3,\n",
       " 0.1,\n",
       " 0.2,\n",
       " 0.1,\n",
       " 0.1,\n",
       " 0.3,\n",
       " 0.1,\n",
       " 0.3,\n",
       " 0.3,\n",
       " 0.3,\n",
       " 0.0,\n",
       " 0.5,\n",
       " 0.2,\n",
       " 0.2,\n",
       " 0.2,\n",
       " 0.1,\n",
       " 0.2,\n",
       " 0.1,\n",
       " 0.1,\n",
       " 0.3,\n",
       " 0.2,\n",
       " 0.3,\n",
       " 0.2,\n",
       " 0.0,\n",
       " 0.4,\n",
       " 0.0,\n",
       " 0.0,\n",
       " 0.1,\n",
       " 0.2,\n",
       " 0.1,\n",
       " 0.5,\n",
       " 0.0,\n",
       " 0.0,\n",
       " 0.0,\n",
       " 0.2,\n",
       " 0.1,\n",
       " 0.3,\n",
       " 0.4,\n",
       " 0.2,\n",
       " 0.1,\n",
       " 0.2,\n",
       " 0.3,\n",
       " 0.4,\n",
       " 0.2,\n",
       " 0.0,\n",
       " 0.2,\n",
       " 0.1,\n",
       " 0.3,\n",
       " 0.2,\n",
       " 0.1,\n",
       " 0.2,\n",
       " 0.1,\n",
       " 0.2,\n",
       " 0.2,\n",
       " 0.3,\n",
       " 0.2]"
      ]
     },
     "execution_count": 4,
     "metadata": {},
     "output_type": "execute_result"
    }
   ],
   "source": [
    "get_results(0.2,10)"
   ]
  },
  {
   "cell_type": "code",
   "execution_count": null,
   "id": "60c0e21b",
   "metadata": {},
   "outputs": [],
   "source": [
    "get_results(0.2,100)"
   ]
  },
  {
   "cell_type": "code",
   "execution_count": null,
   "id": "121c07de",
   "metadata": {},
   "outputs": [],
   "source": [
    "get_results(0.5,10)"
   ]
  },
  {
   "cell_type": "code",
   "execution_count": null,
   "id": "c707b1c7",
   "metadata": {},
   "outputs": [],
   "source": [
    "get_results(0.5,100)"
   ]
  },
  {
   "cell_type": "code",
   "execution_count": null,
   "id": "8dfa955c",
   "metadata": {},
   "outputs": [],
   "source": [
    "#(d)(ii):\n",
    "errors=get_results(0.5,10)\n",
    "counter=0\n",
    "for i in range(len(errors)):\n",
    "    if errors[i]<=0.45:\n",
    "        counter=counter+1\n",
    "        \n",
    "counter"
   ]
  },
  {
   "cell_type": "code",
   "execution_count": null,
   "id": "6022ce93",
   "metadata": {},
   "outputs": [],
   "source": [
    "errors1=get_results(0.5,100)\n",
    "counter=0\n",
    "for i in range(len(errors1)):\n",
    "    if errors1[i]<=0.45:\n",
    "        counter=counter+1\n",
    "        \n",
    "counter"
   ]
  }
 ],
 "metadata": {
  "kernelspec": {
   "display_name": "Python 3",
   "language": "python",
   "name": "python3"
  },
  "language_info": {
   "codemirror_mode": {
    "name": "ipython",
    "version": 3
   },
   "file_extension": ".py",
   "mimetype": "text/x-python",
   "name": "python",
   "nbconvert_exporter": "python",
   "pygments_lexer": "ipython3",
   "version": "3.8.8"
  }
 },
 "nbformat": 4,
 "nbformat_minor": 5
}
