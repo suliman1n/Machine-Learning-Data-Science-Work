{
 "cells": [
  {
   "cell_type": "code",
   "execution_count": null,
   "id": "52dc07de",
   "metadata": {},
   "outputs": [],
   "source": [
    "import numpy as np\n",
    "import math\n",
    "import matplotlib.pyplot as plt"
   ]
  },
  {
   "cell_type": "code",
   "execution_count": null,
   "id": "eac20ac7",
   "metadata": {},
   "outputs": [],
   "source": [
    "#part (a):\n",
    "for a in [0.1, 0.5, 0.9]:\n",
    "    b=1/101\n",
    "    n=101\n",
    "    e=0.1*(1-a)+4*np.sqrt(((a**2)/b)+((1-a**2)/(1-b)))*np.sqrt((2/n)*10*np.log(2*(n+1))+(2/n)*np.log((8/0.1)))\n",
    "    print(e)"
   ]
  },
  {
   "cell_type": "code",
   "execution_count": null,
   "id": "79c42eae",
   "metadata": {
    "scrolled": false
   },
   "outputs": [],
   "source": [
    "#part(b)\n",
    "for N_T in [10,100,1000,10000]:\n",
    "    N_S=1000\n",
    "    n=N_S+N_T\n",
    "    b=N_T/n\n",
    "    a=np.arange(0,1,0.000001)\n",
    "    e=0.1*(1-a)+4*np.sqrt(((a**2)/b)+((1-a**2)/(1-b)))*np.sqrt((2/n)*10*np.log(2*(n+1))+(2/n)*np.log((8/0.1)))\n",
    "    print('optimal α is:',a[e.argmin()])\n",
    "    plt.plot(a,e,label=N_T)\n",
    "    plt.xlabel('α')\n",
    "    plt.ylabel('ε')\n",
    "    plt.legend()\n",
    "    #question (d)\n",
    "    a=0.5\n",
    "    e=0.1*(1-a)+4*np.sqrt(((a**2)/b)+((1-a**2)/(1-b)))*np.sqrt((2/n)*10*np.log(2*(n+1))+(2/n)*np.log((8/0.1)))\n",
    "    print('when α=0.5, e is:',e)\n",
    "    a=b\n",
    "    e=0.1*(1-a)+4*np.sqrt(((a**2)/b)+((1-a**2)/(1-b)))*np.sqrt((2/n)*10*np.log(2*(n+1))+(2/n)*np.log((8/0.1)))\n",
    "    print('when α is',b,'e is:',e,'\\n')\n"
   ]
  },
  {
   "cell_type": "code",
   "execution_count": null,
   "id": "e7991fbb",
   "metadata": {},
   "outputs": [],
   "source": [
    "#part (c)\n",
    "for N_S in [10,100,1000,10000]:\n",
    "    N_T=100\n",
    "    n=N_S+N_T\n",
    "    b=N_T/n\n",
    "    a=np.arange(0,1,0.000001)\n",
    "    e=0.1*(1-a)+4*np.sqrt(((a**2)/b)+((1-a**2)/(1-b)))*np.sqrt((2/n)*10*np.log(2*(n+1))+(2/n)*np.log((8/0.1)))\n",
    "    print('optimal α is:',a[e.argmin()])\n",
    "    plt.plot(a,e,label=N_S)\n",
    "    plt.xlabel('α')\n",
    "    plt.ylabel('ε')\n",
    "    plt.legend()\n",
    "    a=0.5\n",
    "    e=0.1*(1-a)+4*np.sqrt(((a**2)/b)+((1-a**2)/(1-b)))*np.sqrt((2/n)*10*np.log(2*(n+1))+(2/n)*np.log((8/0.1)))\n",
    "    print('when α=0.5, e is:',e)\n",
    "    a=b\n",
    "    e=0.1*(1-a)+4*np.sqrt(((a**2)/b)+((1-a**2)/(1-b)))*np.sqrt((2/n)*10*np.log(2*(n+1))+(2/n)*np.log((8/0.1)))\n",
    "    print('when α is',b,'e is:',e,'\\n')"
   ]
  },
  {
   "cell_type": "code",
   "execution_count": null,
   "id": "a90268d8",
   "metadata": {},
   "outputs": [],
   "source": [
    "#part (d)(iii)\n",
    "for b in [0.01,0.1,0.5]:\n",
    "    a=0.5\n",
    "    n=np.arange(1000,100000,100)\n",
    "    e=0.1*(1-a)+4*np.sqrt(((a**2)/b)+((1-a**2)/(1-b)))*np.sqrt((2/n)*10*np.log(2*(n+1))+(2/n)*np.log((8/0.1)))\n",
    "    #print('optimal alpha is:',a[e.argmin()])\n",
    "    plt.plot(N,e,label=b)\n",
    "    plt.xlabel('N')\n",
    "    plt.ylabel('ε')\n",
    "    plt.legend()"
   ]
  },
  {
   "cell_type": "code",
   "execution_count": null,
   "id": "2588cd98",
   "metadata": {},
   "outputs": [],
   "source": [
    "for b in [0.01,0.1,0.5]:\n",
    "    a=b\n",
    "    n=np.arange(1000,100000,100)\n",
    "    e=0.1*(1-a)+4*np.sqrt(((a**2)/b)+((1-a**2)/(1-b)))*np.sqrt((2/n)*10*np.log(2*(n+1))+(2/n)*np.log((8/0.1)))\n",
    "    #print('optimal alpha is:',a[e.argmin()])\n",
    "    plt.plot(N,e,label=b)\n",
    "    plt.xlabel('N')\n",
    "    plt.ylabel('ε')\n",
    "    plt.legend()"
   ]
  }
 ],
 "metadata": {
  "kernelspec": {
   "display_name": "Python 3",
   "language": "python",
   "name": "python3"
  },
  "language_info": {
   "codemirror_mode": {
    "name": "ipython",
    "version": 3
   },
   "file_extension": ".py",
   "mimetype": "text/x-python",
   "name": "python",
   "nbconvert_exporter": "python",
   "pygments_lexer": "ipython3",
   "version": "3.8.8"
  }
 },
 "nbformat": 4,
 "nbformat_minor": 5
}
