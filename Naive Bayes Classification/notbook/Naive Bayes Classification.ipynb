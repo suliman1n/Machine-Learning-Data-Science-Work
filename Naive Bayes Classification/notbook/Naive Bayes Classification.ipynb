{
 "cells": [
  {
   "cell_type": "code",
   "execution_count": 28,
   "metadata": {
    "id": "txg3M9gmvJSl"
   },
   "outputs": [],
   "source": [
    "import warnings\n",
    "warnings.filterwarnings(\"ignore\")\n",
    "\n",
    "import pandas as pd\n",
    "import numpy as np\n",
    "import matplotlib.pyplot as plt\n",
    "from sklearn.naive_bayes import GaussianNB\n",
    "from sklearn.preprocessing import LabelEncoder\n",
    "from sklearn.metrics import roc_curve, auc,confusion_matrix\n",
    "from sklearn.metrics import precision_recall_fscore_support"
   ]
  },
  {
   "cell_type": "markdown",
   "metadata": {
    "id": "nf_QDRzuL-5_"
   },
   "source": [
    "### To define the Headings of the Columns"
   ]
  },
  {
   "cell_type": "code",
   "execution_count": 29,
   "metadata": {
    "colab": {
     "base_uri": "https://localhost:8080/"
    },
    "id": "DsIoobjEjCUN",
    "outputId": "d70fa19f-9b76-4e98-f327-a89f998af82c"
   },
   "outputs": [
    {
     "data": {
      "text/plain": [
       "('ID, Target, Time to recurrence, x0, x1, x2, x3, x4, x5, x6, x7, x8, x9, x10, x11, x12, x13, x14, x15, x16, x17, x18, x19, x20, x21, x22, x23, x24, x25, x26, x27, x28, x29, dia, lym',\n",
       " 35)"
      ]
     },
     "execution_count": 29,
     "metadata": {},
     "output_type": "execute_result"
    }
   ],
   "source": [
    "\n",
    "Cols = ['ID', 'Target', 'Time to recurrence'] + \\\n",
    "        [f'x{i}' for i in range(30)] + ['dia', 'lym']\n",
    "Cols_ = ', '.join(Cols)\n",
    "Cols_, len(Cols)"
   ]
  },
  {
   "cell_type": "markdown",
   "metadata": {
    "id": "12NIgJWOMF3F"
   },
   "source": [
    "### Converting the data file into csv for processing"
   ]
  },
  {
   "cell_type": "code",
   "execution_count": 30,
   "metadata": {
    "id": "Q8PpDMha2dAt"
   },
   "outputs": [],
   "source": [
    "with open(r'data\\wpbc.data') as myfile:\n",
    "    with open('xyz.csv', 'w') as f:\n",
    "        f.write(Cols_)\n",
    "        f.write('\\n')\n",
    "        for line in myfile.readlines():\n",
    "            f.write(line)"
   ]
  },
  {
   "cell_type": "markdown",
   "metadata": {
    "id": "1xnP4ehuMMEn"
   },
   "source": [
    "### reading the Data using the Pandas library"
   ]
  },
  {
   "cell_type": "code",
   "execution_count": 31,
   "metadata": {
    "colab": {
     "base_uri": "https://localhost:8080/",
     "height": 165
    },
    "id": "3kxP9Nd9f3PD",
    "outputId": "f296b44c-4fb6-4638-c8e2-2400ddca39c9"
   },
   "outputs": [
    {
     "name": "stdout",
     "output_type": "stream",
     "text": [
      "(198, 35)\n"
     ]
    },
    {
     "data": {
      "text/html": [
       "<div>\n",
       "<style scoped>\n",
       "    .dataframe tbody tr th:only-of-type {\n",
       "        vertical-align: middle;\n",
       "    }\n",
       "\n",
       "    .dataframe tbody tr th {\n",
       "        vertical-align: top;\n",
       "    }\n",
       "\n",
       "    .dataframe thead th {\n",
       "        text-align: right;\n",
       "    }\n",
       "</style>\n",
       "<table border=\"1\" class=\"dataframe\">\n",
       "  <thead>\n",
       "    <tr style=\"text-align: right;\">\n",
       "      <th></th>\n",
       "      <th>ID</th>\n",
       "      <th>Target</th>\n",
       "      <th>Time to recurrence</th>\n",
       "      <th>x0</th>\n",
       "      <th>x1</th>\n",
       "      <th>x2</th>\n",
       "      <th>x3</th>\n",
       "      <th>x4</th>\n",
       "      <th>x5</th>\n",
       "      <th>x6</th>\n",
       "      <th>...</th>\n",
       "      <th>x22</th>\n",
       "      <th>x23</th>\n",
       "      <th>x24</th>\n",
       "      <th>x25</th>\n",
       "      <th>x26</th>\n",
       "      <th>x27</th>\n",
       "      <th>x28</th>\n",
       "      <th>x29</th>\n",
       "      <th>dia</th>\n",
       "      <th>lym</th>\n",
       "    </tr>\n",
       "  </thead>\n",
       "  <tbody>\n",
       "    <tr>\n",
       "      <th>0</th>\n",
       "      <td>119513</td>\n",
       "      <td>N</td>\n",
       "      <td>31</td>\n",
       "      <td>18.02</td>\n",
       "      <td>27.60</td>\n",
       "      <td>117.50</td>\n",
       "      <td>1013.0</td>\n",
       "      <td>0.09489</td>\n",
       "      <td>0.10360</td>\n",
       "      <td>0.10860</td>\n",
       "      <td>...</td>\n",
       "      <td>139.70</td>\n",
       "      <td>1436.0</td>\n",
       "      <td>0.11950</td>\n",
       "      <td>0.1926</td>\n",
       "      <td>0.3140</td>\n",
       "      <td>0.11700</td>\n",
       "      <td>0.2677</td>\n",
       "      <td>0.08113</td>\n",
       "      <td>5.0</td>\n",
       "      <td>5</td>\n",
       "    </tr>\n",
       "    <tr>\n",
       "      <th>1</th>\n",
       "      <td>8423</td>\n",
       "      <td>N</td>\n",
       "      <td>61</td>\n",
       "      <td>17.99</td>\n",
       "      <td>10.38</td>\n",
       "      <td>122.80</td>\n",
       "      <td>1001.0</td>\n",
       "      <td>0.11840</td>\n",
       "      <td>0.27760</td>\n",
       "      <td>0.30010</td>\n",
       "      <td>...</td>\n",
       "      <td>184.60</td>\n",
       "      <td>2019.0</td>\n",
       "      <td>0.16220</td>\n",
       "      <td>0.6656</td>\n",
       "      <td>0.7119</td>\n",
       "      <td>0.26540</td>\n",
       "      <td>0.4601</td>\n",
       "      <td>0.11890</td>\n",
       "      <td>3.0</td>\n",
       "      <td>2</td>\n",
       "    </tr>\n",
       "    <tr>\n",
       "      <th>2</th>\n",
       "      <td>842517</td>\n",
       "      <td>N</td>\n",
       "      <td>116</td>\n",
       "      <td>21.37</td>\n",
       "      <td>17.44</td>\n",
       "      <td>137.50</td>\n",
       "      <td>1373.0</td>\n",
       "      <td>0.08836</td>\n",
       "      <td>0.11890</td>\n",
       "      <td>0.12550</td>\n",
       "      <td>...</td>\n",
       "      <td>159.10</td>\n",
       "      <td>1949.0</td>\n",
       "      <td>0.11880</td>\n",
       "      <td>0.3449</td>\n",
       "      <td>0.3414</td>\n",
       "      <td>0.20320</td>\n",
       "      <td>0.4334</td>\n",
       "      <td>0.09067</td>\n",
       "      <td>2.5</td>\n",
       "      <td>0</td>\n",
       "    </tr>\n",
       "    <tr>\n",
       "      <th>3</th>\n",
       "      <td>843483</td>\n",
       "      <td>N</td>\n",
       "      <td>123</td>\n",
       "      <td>11.42</td>\n",
       "      <td>20.38</td>\n",
       "      <td>77.58</td>\n",
       "      <td>386.1</td>\n",
       "      <td>0.14250</td>\n",
       "      <td>0.28390</td>\n",
       "      <td>0.24140</td>\n",
       "      <td>...</td>\n",
       "      <td>98.87</td>\n",
       "      <td>567.7</td>\n",
       "      <td>0.20980</td>\n",
       "      <td>0.8663</td>\n",
       "      <td>0.6869</td>\n",
       "      <td>0.25750</td>\n",
       "      <td>0.6638</td>\n",
       "      <td>0.17300</td>\n",
       "      <td>2.0</td>\n",
       "      <td>0</td>\n",
       "    </tr>\n",
       "    <tr>\n",
       "      <th>4</th>\n",
       "      <td>843584</td>\n",
       "      <td>R</td>\n",
       "      <td>27</td>\n",
       "      <td>20.29</td>\n",
       "      <td>14.34</td>\n",
       "      <td>135.10</td>\n",
       "      <td>1297.0</td>\n",
       "      <td>0.10030</td>\n",
       "      <td>0.13280</td>\n",
       "      <td>0.19800</td>\n",
       "      <td>...</td>\n",
       "      <td>152.20</td>\n",
       "      <td>1575.0</td>\n",
       "      <td>0.13740</td>\n",
       "      <td>0.2050</td>\n",
       "      <td>0.4000</td>\n",
       "      <td>0.16250</td>\n",
       "      <td>0.2364</td>\n",
       "      <td>0.07678</td>\n",
       "      <td>3.5</td>\n",
       "      <td>0</td>\n",
       "    </tr>\n",
       "    <tr>\n",
       "      <th>...</th>\n",
       "      <td>...</td>\n",
       "      <td>...</td>\n",
       "      <td>...</td>\n",
       "      <td>...</td>\n",
       "      <td>...</td>\n",
       "      <td>...</td>\n",
       "      <td>...</td>\n",
       "      <td>...</td>\n",
       "      <td>...</td>\n",
       "      <td>...</td>\n",
       "      <td>...</td>\n",
       "      <td>...</td>\n",
       "      <td>...</td>\n",
       "      <td>...</td>\n",
       "      <td>...</td>\n",
       "      <td>...</td>\n",
       "      <td>...</td>\n",
       "      <td>...</td>\n",
       "      <td>...</td>\n",
       "      <td>...</td>\n",
       "      <td>...</td>\n",
       "    </tr>\n",
       "    <tr>\n",
       "      <th>193</th>\n",
       "      <td>942640</td>\n",
       "      <td>N</td>\n",
       "      <td>10</td>\n",
       "      <td>22.52</td>\n",
       "      <td>21.92</td>\n",
       "      <td>146.90</td>\n",
       "      <td>1597.0</td>\n",
       "      <td>0.07592</td>\n",
       "      <td>0.09162</td>\n",
       "      <td>0.06862</td>\n",
       "      <td>...</td>\n",
       "      <td>162.10</td>\n",
       "      <td>1902.0</td>\n",
       "      <td>0.08191</td>\n",
       "      <td>0.1319</td>\n",
       "      <td>0.1056</td>\n",
       "      <td>0.09378</td>\n",
       "      <td>0.2061</td>\n",
       "      <td>0.05788</td>\n",
       "      <td>6.0</td>\n",
       "      <td>2</td>\n",
       "    </tr>\n",
       "    <tr>\n",
       "      <th>194</th>\n",
       "      <td>943471</td>\n",
       "      <td>N</td>\n",
       "      <td>8</td>\n",
       "      <td>15.44</td>\n",
       "      <td>31.18</td>\n",
       "      <td>101.00</td>\n",
       "      <td>740.4</td>\n",
       "      <td>0.09399</td>\n",
       "      <td>0.10620</td>\n",
       "      <td>0.13750</td>\n",
       "      <td>...</td>\n",
       "      <td>112.60</td>\n",
       "      <td>929.0</td>\n",
       "      <td>0.12720</td>\n",
       "      <td>0.2362</td>\n",
       "      <td>0.2975</td>\n",
       "      <td>0.12860</td>\n",
       "      <td>0.2914</td>\n",
       "      <td>0.08024</td>\n",
       "      <td>1.5</td>\n",
       "      <td>0</td>\n",
       "    </tr>\n",
       "    <tr>\n",
       "      <th>195</th>\n",
       "      <td>94547</td>\n",
       "      <td>N</td>\n",
       "      <td>12</td>\n",
       "      <td>17.17</td>\n",
       "      <td>29.19</td>\n",
       "      <td>110.00</td>\n",
       "      <td>915.3</td>\n",
       "      <td>0.08952</td>\n",
       "      <td>0.06655</td>\n",
       "      <td>0.06583</td>\n",
       "      <td>...</td>\n",
       "      <td>132.50</td>\n",
       "      <td>1295.0</td>\n",
       "      <td>0.12610</td>\n",
       "      <td>0.1572</td>\n",
       "      <td>0.2141</td>\n",
       "      <td>0.09520</td>\n",
       "      <td>0.3362</td>\n",
       "      <td>0.06033</td>\n",
       "      <td>3.7</td>\n",
       "      <td>0</td>\n",
       "    </tr>\n",
       "    <tr>\n",
       "      <th>196</th>\n",
       "      <td>947204</td>\n",
       "      <td>R</td>\n",
       "      <td>3</td>\n",
       "      <td>21.42</td>\n",
       "      <td>22.84</td>\n",
       "      <td>145.00</td>\n",
       "      <td>1440.0</td>\n",
       "      <td>0.10700</td>\n",
       "      <td>0.19390</td>\n",
       "      <td>0.23800</td>\n",
       "      <td>...</td>\n",
       "      <td>198.30</td>\n",
       "      <td>2375.0</td>\n",
       "      <td>0.14980</td>\n",
       "      <td>0.4379</td>\n",
       "      <td>0.5411</td>\n",
       "      <td>0.22150</td>\n",
       "      <td>0.2832</td>\n",
       "      <td>0.08981</td>\n",
       "      <td>3.0</td>\n",
       "      <td>?</td>\n",
       "    </tr>\n",
       "    <tr>\n",
       "      <th>197</th>\n",
       "      <td>947489</td>\n",
       "      <td>N</td>\n",
       "      <td>6</td>\n",
       "      <td>16.70</td>\n",
       "      <td>28.13</td>\n",
       "      <td>110.30</td>\n",
       "      <td>885.4</td>\n",
       "      <td>0.08896</td>\n",
       "      <td>0.11310</td>\n",
       "      <td>0.10120</td>\n",
       "      <td>...</td>\n",
       "      <td>128.80</td>\n",
       "      <td>1213.0</td>\n",
       "      <td>0.13300</td>\n",
       "      <td>0.2808</td>\n",
       "      <td>0.3455</td>\n",
       "      <td>0.13170</td>\n",
       "      <td>0.3035</td>\n",
       "      <td>0.08036</td>\n",
       "      <td>3.5</td>\n",
       "      <td>0</td>\n",
       "    </tr>\n",
       "  </tbody>\n",
       "</table>\n",
       "<p>198 rows × 35 columns</p>\n",
       "</div>"
      ],
      "text/plain": [
       "         ID  Target   Time to recurrence     x0     x1      x2      x3  \\\n",
       "0    119513       N                   31  18.02  27.60  117.50  1013.0   \n",
       "1      8423       N                   61  17.99  10.38  122.80  1001.0   \n",
       "2    842517       N                  116  21.37  17.44  137.50  1373.0   \n",
       "3    843483       N                  123  11.42  20.38   77.58   386.1   \n",
       "4    843584       R                   27  20.29  14.34  135.10  1297.0   \n",
       "..      ...     ...                  ...    ...    ...     ...     ...   \n",
       "193  942640       N                   10  22.52  21.92  146.90  1597.0   \n",
       "194  943471       N                    8  15.44  31.18  101.00   740.4   \n",
       "195   94547       N                   12  17.17  29.19  110.00   915.3   \n",
       "196  947204       R                    3  21.42  22.84  145.00  1440.0   \n",
       "197  947489       N                    6  16.70  28.13  110.30   885.4   \n",
       "\n",
       "          x4       x5       x6  ...     x22     x23      x24     x25     x26  \\\n",
       "0    0.09489  0.10360  0.10860  ...  139.70  1436.0  0.11950  0.1926  0.3140   \n",
       "1    0.11840  0.27760  0.30010  ...  184.60  2019.0  0.16220  0.6656  0.7119   \n",
       "2    0.08836  0.11890  0.12550  ...  159.10  1949.0  0.11880  0.3449  0.3414   \n",
       "3    0.14250  0.28390  0.24140  ...   98.87   567.7  0.20980  0.8663  0.6869   \n",
       "4    0.10030  0.13280  0.19800  ...  152.20  1575.0  0.13740  0.2050  0.4000   \n",
       "..       ...      ...      ...  ...     ...     ...      ...     ...     ...   \n",
       "193  0.07592  0.09162  0.06862  ...  162.10  1902.0  0.08191  0.1319  0.1056   \n",
       "194  0.09399  0.10620  0.13750  ...  112.60   929.0  0.12720  0.2362  0.2975   \n",
       "195  0.08952  0.06655  0.06583  ...  132.50  1295.0  0.12610  0.1572  0.2141   \n",
       "196  0.10700  0.19390  0.23800  ...  198.30  2375.0  0.14980  0.4379  0.5411   \n",
       "197  0.08896  0.11310  0.10120  ...  128.80  1213.0  0.13300  0.2808  0.3455   \n",
       "\n",
       "         x27     x28      x29   dia   lym  \n",
       "0    0.11700  0.2677  0.08113   5.0     5  \n",
       "1    0.26540  0.4601  0.11890   3.0     2  \n",
       "2    0.20320  0.4334  0.09067   2.5     0  \n",
       "3    0.25750  0.6638  0.17300   2.0     0  \n",
       "4    0.16250  0.2364  0.07678   3.5     0  \n",
       "..       ...     ...      ...   ...   ...  \n",
       "193  0.09378  0.2061  0.05788   6.0     2  \n",
       "194  0.12860  0.2914  0.08024   1.5     0  \n",
       "195  0.09520  0.3362  0.06033   3.7     0  \n",
       "196  0.22150  0.2832  0.08981   3.0     ?  \n",
       "197  0.13170  0.3035  0.08036   3.5     0  \n",
       "\n",
       "[198 rows x 35 columns]"
      ]
     },
     "execution_count": 31,
     "metadata": {},
     "output_type": "execute_result"
    }
   ],
   "source": [
    "Data = pd.read_csv('xyz.csv')\n",
    "print(Data.shape)\n",
    "Data"
   ]
  },
  {
   "cell_type": "markdown",
   "metadata": {
    "id": "hcbjAbDAMRfs"
   },
   "source": [
    "##\n",
    "Seperating first 130 Non-recurrent and first 37 Recurrent from the data to form Train Dataset\n",
    "\n",
    "The Entry No #197 is also added to the Train set as required."
   ]
  },
  {
   "cell_type": "code",
   "execution_count": 32,
   "metadata": {
    "colab": {
     "base_uri": "https://localhost:8080/",
     "height": 165
    },
    "id": "zCjdPSAYjfsf",
    "outputId": "07cd1a26-7398-443b-8f62-0dc502409404"
   },
   "outputs": [
    {
     "name": "stdout",
     "output_type": "stream",
     "text": [
      "(151, 35) (47, 35) (168, 35) (30, 35)\n"
     ]
    },
    {
     "data": {
      "text/html": [
       "<div>\n",
       "<style scoped>\n",
       "    .dataframe tbody tr th:only-of-type {\n",
       "        vertical-align: middle;\n",
       "    }\n",
       "\n",
       "    .dataframe tbody tr th {\n",
       "        vertical-align: top;\n",
       "    }\n",
       "\n",
       "    .dataframe thead th {\n",
       "        text-align: right;\n",
       "    }\n",
       "</style>\n",
       "<table border=\"1\" class=\"dataframe\">\n",
       "  <thead>\n",
       "    <tr style=\"text-align: right;\">\n",
       "      <th></th>\n",
       "      <th>ID</th>\n",
       "      <th>Target</th>\n",
       "      <th>Time to recurrence</th>\n",
       "      <th>x0</th>\n",
       "      <th>x1</th>\n",
       "      <th>x2</th>\n",
       "      <th>x3</th>\n",
       "      <th>x4</th>\n",
       "      <th>x5</th>\n",
       "      <th>x6</th>\n",
       "      <th>...</th>\n",
       "      <th>x22</th>\n",
       "      <th>x23</th>\n",
       "      <th>x24</th>\n",
       "      <th>x25</th>\n",
       "      <th>x26</th>\n",
       "      <th>x27</th>\n",
       "      <th>x28</th>\n",
       "      <th>x29</th>\n",
       "      <th>dia</th>\n",
       "      <th>lym</th>\n",
       "    </tr>\n",
       "  </thead>\n",
       "  <tbody>\n",
       "    <tr>\n",
       "      <th>0</th>\n",
       "      <td>119513</td>\n",
       "      <td>N</td>\n",
       "      <td>31</td>\n",
       "      <td>18.02</td>\n",
       "      <td>27.60</td>\n",
       "      <td>117.5</td>\n",
       "      <td>1013.0</td>\n",
       "      <td>0.09489</td>\n",
       "      <td>0.1036</td>\n",
       "      <td>0.1086</td>\n",
       "      <td>...</td>\n",
       "      <td>139.7</td>\n",
       "      <td>1436.0</td>\n",
       "      <td>0.1195</td>\n",
       "      <td>0.1926</td>\n",
       "      <td>0.3140</td>\n",
       "      <td>0.1170</td>\n",
       "      <td>0.2677</td>\n",
       "      <td>0.08113</td>\n",
       "      <td>5.0</td>\n",
       "      <td>5</td>\n",
       "    </tr>\n",
       "    <tr>\n",
       "      <th>1</th>\n",
       "      <td>8423</td>\n",
       "      <td>N</td>\n",
       "      <td>61</td>\n",
       "      <td>17.99</td>\n",
       "      <td>10.38</td>\n",
       "      <td>122.8</td>\n",
       "      <td>1001.0</td>\n",
       "      <td>0.11840</td>\n",
       "      <td>0.2776</td>\n",
       "      <td>0.3001</td>\n",
       "      <td>...</td>\n",
       "      <td>184.6</td>\n",
       "      <td>2019.0</td>\n",
       "      <td>0.1622</td>\n",
       "      <td>0.6656</td>\n",
       "      <td>0.7119</td>\n",
       "      <td>0.2654</td>\n",
       "      <td>0.4601</td>\n",
       "      <td>0.11890</td>\n",
       "      <td>3.0</td>\n",
       "      <td>2</td>\n",
       "    </tr>\n",
       "  </tbody>\n",
       "</table>\n",
       "<p>2 rows × 35 columns</p>\n",
       "</div>"
      ],
      "text/plain": [
       "       ID  Target   Time to recurrence     x0     x1     x2      x3       x4  \\\n",
       "0  119513       N                   31  18.02  27.60  117.5  1013.0  0.09489   \n",
       "1    8423       N                   61  17.99  10.38  122.8  1001.0  0.11840   \n",
       "\n",
       "       x5      x6  ...    x22     x23     x24     x25     x26     x27     x28  \\\n",
       "0  0.1036  0.1086  ...  139.7  1436.0  0.1195  0.1926  0.3140  0.1170  0.2677   \n",
       "1  0.2776  0.3001  ...  184.6  2019.0  0.1622  0.6656  0.7119  0.2654  0.4601   \n",
       "\n",
       "       x29   dia   lym  \n",
       "0  0.08113   5.0     5  \n",
       "1  0.11890   3.0     2  \n",
       "\n",
       "[2 rows x 35 columns]"
      ]
     },
     "execution_count": 32,
     "metadata": {},
     "output_type": "execute_result"
    }
   ],
   "source": [
    "D1 = Data[Data[' Target'] == 'N']\n",
    "D2 = Data[Data[' Target'] == 'R']\n",
    "Train = pd.concat([D1[:130], D2[:37]]).append(Data.iloc[196])\n",
    "Test = pd.concat([D1[130:], D2[37:]]).drop(196)\n",
    "print(D1.shape, D2.shape, Train.shape, Test.shape)\n",
    "Train.head(2)"
   ]
  },
  {
   "cell_type": "markdown",
   "metadata": {
    "id": "cbKcMMl4MjQU"
   },
   "source": [
    "\n",
    "\n",
    "Imputing the datapoints where the data is not available or indicated as '?'"
   ]
  },
  {
   "cell_type": "code",
   "execution_count": 33,
   "metadata": {
    "colab": {
     "base_uri": "https://localhost:8080/"
    },
    "id": "c_uGPwf9lzuw",
    "outputId": "e5877511-768c-4d53-8e97-bd6a42ed710e"
   },
   "outputs": [
    {
     "name": "stdout",
     "output_type": "stream",
     "text": [
      "Before Imputation 4\n",
      "After Imputation 0\n"
     ]
    },
    {
     "data": {
      "text/html": [
       "<div>\n",
       "<style scoped>\n",
       "    .dataframe tbody tr th:only-of-type {\n",
       "        vertical-align: middle;\n",
       "    }\n",
       "\n",
       "    .dataframe tbody tr th {\n",
       "        vertical-align: top;\n",
       "    }\n",
       "\n",
       "    .dataframe thead th {\n",
       "        text-align: right;\n",
       "    }\n",
       "</style>\n",
       "<table border=\"1\" class=\"dataframe\">\n",
       "  <thead>\n",
       "    <tr style=\"text-align: right;\">\n",
       "      <th></th>\n",
       "      <th>ID</th>\n",
       "      <th>Target</th>\n",
       "      <th>Time to recurrence</th>\n",
       "      <th>x0</th>\n",
       "      <th>x1</th>\n",
       "      <th>x2</th>\n",
       "      <th>x3</th>\n",
       "      <th>x4</th>\n",
       "      <th>x5</th>\n",
       "      <th>x6</th>\n",
       "      <th>...</th>\n",
       "      <th>x22</th>\n",
       "      <th>x23</th>\n",
       "      <th>x24</th>\n",
       "      <th>x25</th>\n",
       "      <th>x26</th>\n",
       "      <th>x27</th>\n",
       "      <th>x28</th>\n",
       "      <th>x29</th>\n",
       "      <th>dia</th>\n",
       "      <th>lym</th>\n",
       "    </tr>\n",
       "  </thead>\n",
       "  <tbody>\n",
       "    <tr>\n",
       "      <th>6</th>\n",
       "      <td>844359</td>\n",
       "      <td>N</td>\n",
       "      <td>60</td>\n",
       "      <td>18.98</td>\n",
       "      <td>19.61</td>\n",
       "      <td>124.40</td>\n",
       "      <td>1112.0</td>\n",
       "      <td>0.09087</td>\n",
       "      <td>0.1237</td>\n",
       "      <td>0.1213</td>\n",
       "      <td>...</td>\n",
       "      <td>152.6</td>\n",
       "      <td>1593.0</td>\n",
       "      <td>0.1144</td>\n",
       "      <td>0.3371</td>\n",
       "      <td>0.2990</td>\n",
       "      <td>0.1922</td>\n",
       "      <td>0.2726</td>\n",
       "      <td>0.09581</td>\n",
       "      <td>1.5</td>\n",
       "      <td>1.0</td>\n",
       "    </tr>\n",
       "    <tr>\n",
       "      <th>28</th>\n",
       "      <td>854253</td>\n",
       "      <td>N</td>\n",
       "      <td>12</td>\n",
       "      <td>16.74</td>\n",
       "      <td>21.59</td>\n",
       "      <td>110.10</td>\n",
       "      <td>869.5</td>\n",
       "      <td>0.09610</td>\n",
       "      <td>0.1336</td>\n",
       "      <td>0.1348</td>\n",
       "      <td>...</td>\n",
       "      <td>133.5</td>\n",
       "      <td>1229.0</td>\n",
       "      <td>0.1563</td>\n",
       "      <td>0.3835</td>\n",
       "      <td>0.5409</td>\n",
       "      <td>0.1813</td>\n",
       "      <td>0.4863</td>\n",
       "      <td>0.08633</td>\n",
       "      <td>1.5</td>\n",
       "      <td>1.0</td>\n",
       "    </tr>\n",
       "    <tr>\n",
       "      <th>85</th>\n",
       "      <td>877500</td>\n",
       "      <td>N</td>\n",
       "      <td>72</td>\n",
       "      <td>14.45</td>\n",
       "      <td>20.22</td>\n",
       "      <td>94.49</td>\n",
       "      <td>642.7</td>\n",
       "      <td>0.09872</td>\n",
       "      <td>0.1206</td>\n",
       "      <td>0.1180</td>\n",
       "      <td>...</td>\n",
       "      <td>117.9</td>\n",
       "      <td>1044.0</td>\n",
       "      <td>0.1552</td>\n",
       "      <td>0.4056</td>\n",
       "      <td>0.4967</td>\n",
       "      <td>0.1838</td>\n",
       "      <td>0.4753</td>\n",
       "      <td>0.10130</td>\n",
       "      <td>1.5</td>\n",
       "      <td>1.0</td>\n",
       "    </tr>\n",
       "    <tr>\n",
       "      <th>196</th>\n",
       "      <td>947204</td>\n",
       "      <td>R</td>\n",
       "      <td>3</td>\n",
       "      <td>21.42</td>\n",
       "      <td>22.84</td>\n",
       "      <td>145.00</td>\n",
       "      <td>1440.0</td>\n",
       "      <td>0.10700</td>\n",
       "      <td>0.1939</td>\n",
       "      <td>0.2380</td>\n",
       "      <td>...</td>\n",
       "      <td>198.3</td>\n",
       "      <td>2375.0</td>\n",
       "      <td>0.1498</td>\n",
       "      <td>0.4379</td>\n",
       "      <td>0.5411</td>\n",
       "      <td>0.2215</td>\n",
       "      <td>0.2832</td>\n",
       "      <td>0.08981</td>\n",
       "      <td>3.0</td>\n",
       "      <td>1.0</td>\n",
       "    </tr>\n",
       "  </tbody>\n",
       "</table>\n",
       "<p>4 rows × 35 columns</p>\n",
       "</div>"
      ],
      "text/plain": [
       "         ID  Target   Time to recurrence     x0     x1      x2      x3  \\\n",
       "6    844359       N                   60  18.98  19.61  124.40  1112.0   \n",
       "28   854253       N                   12  16.74  21.59  110.10   869.5   \n",
       "85   877500       N                   72  14.45  20.22   94.49   642.7   \n",
       "196  947204       R                    3  21.42  22.84  145.00  1440.0   \n",
       "\n",
       "          x4      x5      x6  ...    x22     x23     x24     x25     x26  \\\n",
       "6    0.09087  0.1237  0.1213  ...  152.6  1593.0  0.1144  0.3371  0.2990   \n",
       "28   0.09610  0.1336  0.1348  ...  133.5  1229.0  0.1563  0.3835  0.5409   \n",
       "85   0.09872  0.1206  0.1180  ...  117.9  1044.0  0.1552  0.4056  0.4967   \n",
       "196  0.10700  0.1939  0.2380  ...  198.3  2375.0  0.1498  0.4379  0.5411   \n",
       "\n",
       "        x27     x28      x29   dia   lym  \n",
       "6    0.1922  0.2726  0.09581   1.5   1.0  \n",
       "28   0.1813  0.4863  0.08633   1.5   1.0  \n",
       "85   0.1838  0.4753  0.10130   1.5   1.0  \n",
       "196  0.2215  0.2832  0.08981   3.0   1.0  \n",
       "\n",
       "[4 rows x 35 columns]"
      ]
     },
     "execution_count": 33,
     "metadata": {},
     "output_type": "execute_result"
    }
   ],
   "source": [
    "print('Before Imputation', (Train[' lym'] == '?').sum())\n",
    "for col in Data.columns:\n",
    "    impute = np.median(Train[col] != '?')\n",
    "    Train[col] = Train[col].replace(['?'], impute)\n",
    "    Test[col] = Test[col].replace(['?'], impute)\n",
    "print('After Imputation', (Train[' lym'] == '?').sum())\n",
    "\n",
    "Train.loc[Train[' lym']==impute]"
   ]
  },
  {
   "cell_type": "markdown",
   "metadata": {
    "id": "ZCOQIcJaMtYT"
   },
   "source": [
    "## Seperating  X (Datapoints) and Y (Targets)"
   ]
  },
  {
   "cell_type": "code",
   "execution_count": 34,
   "metadata": {
    "colab": {
     "base_uri": "https://localhost:8080/"
    },
    "id": "PfSCjDfgrVjs",
    "outputId": "56840a02-b83a-468b-c0d7-d9acb3b82efb"
   },
   "outputs": [
    {
     "data": {
      "text/plain": [
       "((168, 32), (30, 32))"
      ]
     },
     "execution_count": 34,
     "metadata": {},
     "output_type": "execute_result"
    }
   ],
   "source": [
    "Y_train = Train[' Target']\n",
    "Y_test = Test[' Target']\n",
    "X_Train = Train.drop(['ID', ' Target', ' Time to recurrence'], axis=1)\n",
    "X_Test = Test.drop(['ID', ' Target', ' Time to recurrence'], axis=1)\n",
    "X_Train.shape, X_Test.shape"
   ]
  },
  {
   "cell_type": "markdown",
   "metadata": {
    "id": "EYWHtGHIM2nM"
   },
   "source": [
    "### Using Lable encoding to convert the probelm into binary {'0','1'} Classification. "
   ]
  },
  {
   "cell_type": "code",
   "execution_count": 35,
   "metadata": {
    "id": "DgwPcVdaz-RS"
   },
   "outputs": [],
   "source": [
    "le = LabelEncoder()\n",
    "le.fit(Y_train)\n",
    "Y_Train = le.transform(Y_train)\n",
    "Y_Test = le.transform(Y_test)"
   ]
  },
  {
   "cell_type": "markdown",
   "metadata": {
    "id": "KenEO13mNBpp"
   },
   "source": [
    "\n",
    "Gaussian Naive bayes with weighted probabilities as required in the Question."
   ]
  },
  {
   "cell_type": "code",
   "execution_count": 36,
   "metadata": {
    "colab": {
     "base_uri": "https://localhost:8080/"
    },
    "id": "6y03zJ0cuKjb",
    "outputId": "f06e48b9-7eef-4f2f-945e-e7c4d56c925e"
   },
   "outputs": [
    {
     "name": "stdout",
     "output_type": "stream",
     "text": [
      "The value of p is 0.2261904761904762 as the dataset is unbalanced\n"
     ]
    }
   ],
   "source": [
    "p = Y_Train.sum()/len(Y_Train)\n",
    "print(f'The value of p is {p} as the dataset is unbalanced')\n",
    "clf = GaussianNB(priors=[1-p, p])\n",
    "clf.fit(X_Train, Y_Train)\n",
    "\n",
    "Y_train_pred = clf.predict_proba(X_Train)[:,1]\n",
    "Y_test_pred = clf.predict_proba(X_Test)[:,1]\n",
    "\n",
    "tr_fpr, tr_tpr, tr_thr = roc_curve(Y_Train, Y_train_pred)\n",
    "tst_fpr, tst_tpr, te_thr = roc_curve(Y_Test, Y_test_pred)"
   ]
  },
  {
   "cell_type": "markdown",
   "metadata": {
    "id": "78641N4_NRb1"
   },
   "source": [
    "#### The 'roc_curve' of sklearn gives the fpr, tpr and thresold values for the given Ground truth and predicted values of Target\n",
    "\n",
    "and 'auc' function gives area under curve\n"
   ]
  },
  {
   "cell_type": "code",
   "execution_count": 37,
   "metadata": {
    "colab": {
     "base_uri": "https://localhost:8080/",
     "height": 295
    },
    "id": "o7uhtOSPuMrt",
    "outputId": "d9f881da-3eb9-4f23-9d55-a679893e7cf3"
   },
   "outputs": [
    {
     "data": {
      "image/png": "[encoded data removed]",
      "text/plain": [
       "<Figure size 432x288 with 1 Axes>"
      ]
     },
     "metadata": {
      "needs_background": "light"
     },
     "output_type": "display_data"
    }
   ],
   "source": [
    "plt.plot(tr_fpr, tr_tpr, label=\"Train AUC =\"+str(auc(tr_fpr, tr_tpr)))\n",
    "plt.plot(tst_fpr, tst_tpr, label=\"Test AUC =\"+str(auc(tst_fpr, tst_tpr)))\n",
    "plt.grid() ; plt.legend()\n",
    "plt.xlabel(\"fpr\") ;plt.ylabel(\"tpr\") ;plt.title(\"ROC Curve\")\n",
    "plt.show()"
   ]
  },
  {
   "cell_type": "markdown",
   "metadata": {
    "id": "2PyhmOoDN0Hb"
   },
   "source": [
    "### The 'confusion_matrix' of sklearn gives the confusion_matrix for the given ground truth and predictions"
   ]
  },
  {
   "cell_type": "code",
   "execution_count": 38,
   "metadata": {
    "colab": {
     "base_uri": "https://localhost:8080/"
    },
    "id": "iAjxBSkk5A_k",
    "outputId": "b7854025-8b43-4be3-f8dc-a9350427d41e"
   },
   "outputs": [
    {
     "name": "stdout",
     "output_type": "stream",
     "text": [
      "Train confusion matrix\n",
      "[[98 32]\n",
      " [20 18]]\n",
      "----------------------------------------------------------------------------------------------------\n",
      "Test confusion matrix\n",
      "[[14  7]\n",
      " [ 6  3]]\n"
     ]
    }
   ],
   "source": [
    "def predict_(proba, threshould):\n",
    "    predictions = []\n",
    "    for i in proba:\n",
    "        if i>=threshould: predictions.append(1)\n",
    "        else:             predictions.append(0)\n",
    "    return predictions\n",
    "\n",
    "print(\"Train confusion matrix\")\n",
    "print(confusion_matrix(Y_Train, predict_(Y_train_pred, 0.5)))\n",
    "print(\"-\"*100)\n",
    "print(\"Test confusion matrix\")\n",
    "print(confusion_matrix(Y_Test, predict_(Y_test_pred, 0.5)))"
   ]
  },
  {
   "cell_type": "markdown",
   "metadata": {
    "id": "6zddvj1eOBIo"
   },
   "source": [
    "### The 'precision_recall_fscore_support' of Sklearn gives the values as the name indicates. "
   ]
  },
  {
   "cell_type": "code",
   "execution_count": 39,
   "metadata": {
    "colab": {
     "base_uri": "https://localhost:8080/"
    },
    "id": "-HbmsDb36CZR",
    "outputId": "aaafba18-0f30-4b9c-edc9-f406676af03e"
   },
   "outputs": [
    {
     "name": "stdout",
     "output_type": "stream",
     "text": [
      "for Train dataset\n",
      "------------------------------------------------------------\n",
      "Precisions for CLasses \"N\" and \"R\" are :  [0.83050847 0.36      ]\n",
      "Recalls for CLasses \"N\" and \"R\" are :  [0.75384615 0.47368421]\n",
      "Fscores for CLasses \"N\" and \"R\" are :  [0.79032258 0.40909091]\n",
      "===========================================================================\n",
      "for Test dataset\n",
      "------------------------------------------------------------\n",
      "Precisions for CLasses \"N\" and \"R\" are :  [0.7 0.3]\n",
      "Recalls for CLasses \"N\" and \"R\" are :  [0.66666667 0.33333333]\n",
      "Fscores for CLasses \"N\" and \"R\" are :  [0.68292683 0.31578947]\n"
     ]
    }
   ],
   "source": [
    "Tr = precision_recall_fscore_support(Y_Train, predict_(Y_train_pred, 0.5))\n",
    "Te = precision_recall_fscore_support(Y_Test, predict_(Y_test_pred, 0.5))\n",
    "\n",
    "print(\"for Train dataset\")\n",
    "print(\"-\"*60)\n",
    "print('Precisions for CLasses \"N\" and \"R\" are : ', Tr[0])\n",
    "print('Recalls for CLasses \"N\" and \"R\" are : ', Tr[1])\n",
    "print('Fscores for CLasses \"N\" and \"R\" are : ', Tr[2])\n",
    "\n",
    "print(\"=\"*75)\n",
    "print(\"for Test dataset\")\n",
    "print(\"-\"*60)\n",
    "print('Precisions for CLasses \"N\" and \"R\" are : ', Te[0])\n",
    "print('Recalls for CLasses \"N\" and \"R\" are : ', Te[1])\n",
    "print('Fscores for CLasses \"N\" and \"R\" are : ', Te[2])"
   ]
  },
  {
   "cell_type": "markdown",
   "metadata": {
    "id": "juOgvkWNA2z8"
   },
   "source": [
    "#  Balancing the Dataset"
   ]
  },
  {
   "cell_type": "code",
   "execution_count": 40,
   "metadata": {
    "colab": {
     "base_uri": "https://localhost:8080/"
    },
    "id": "5inFBGZP8CSb",
    "outputId": "dbfb8bb6-0755-4641-ce20-8ae6484072c4"
   },
   "outputs": [
    {
     "data": {
      "text/plain": [
       "((180, 32), (180,))"
      ]
     },
     "execution_count": 40,
     "metadata": {},
     "output_type": "execute_result"
    }
   ],
   "source": [
    "#!pip install -U imbalanced-learn\n",
    "from imblearn.over_sampling import SMOTE\n",
    "from imblearn.under_sampling import RandomUnderSampler\n",
    "oversample = SMOTE(sampling_strategy={'R': 90}) #the default k value for KNN is 5\n",
    "X_Train, Y_train = oversample.fit_resample(X_Train, Y_train)\n",
    "\n",
    "undersample = RandomUnderSampler(sampling_strategy={'N': 90})\n",
    "X_Train, Y_train = undersample.fit_resample(X_Train, Y_train)\n",
    "\n",
    "X_Train.shape, Y_train.shape"
   ]
  },
  {
   "cell_type": "code",
   "execution_count": 41,
   "metadata": {
    "id": "MDlHIIAqBJzm"
   },
   "outputs": [],
   "source": [
    "le = LabelEncoder()\n",
    "le.fit(Y_train)\n",
    "Y_Train = le.transform(Y_train)\n",
    "Y_Test = le.transform(Y_test)"
   ]
  },
  {
   "cell_type": "code",
   "execution_count": 42,
   "metadata": {
    "colab": {
     "base_uri": "https://localhost:8080/"
    },
    "id": "foXI-bwsBGAJ",
    "outputId": "4d60625b-8dd3-4d9f-b019-6f391935b0a2"
   },
   "outputs": [
    {
     "name": "stdout",
     "output_type": "stream",
     "text": [
      "The value of p is 0.5 as the dataset is balanced\n"
     ]
    }
   ],
   "source": [
    "p = Y_Train.sum()/len(Y_Train)\n",
    "print(f'The value of p is {p} as the dataset is balanced')\n",
    "clf = GaussianNB(priors=[1-p, p])\n",
    "clf.fit(X_Train, Y_Train)\n",
    "\n",
    "Y_train_pred = clf.predict_proba(X_Train)[:,1]\n",
    "Y_test_pred = clf.predict_proba(X_Test)[:,1]\n",
    "\n",
    "tr_fpr, tr_tpr, tr_thr = roc_curve(Y_Train, Y_train_pred)\n",
    "tst_fpr, tst_tpr, te_thr = roc_curve(Y_Test, Y_test_pred)"
   ]
  },
  {
   "cell_type": "code",
   "execution_count": 43,
   "metadata": {
    "colab": {
     "base_uri": "https://localhost:8080/",
     "height": 295
    },
    "id": "oMBsH8uVBfc7",
    "outputId": "3c81d754-4bea-43fd-d07b-7557bda9da54"
   },
   "outputs": [
    {
     "data": {
      "image/png": "[encoded data removed]",
      "text/plain": [
       "<Figure size 432x288 with 1 Axes>"
      ]
     },
     "metadata": {
      "needs_background": "light"
     },
     "output_type": "display_data"
    }
   ],
   "source": [
    "plt.plot(tr_fpr, tr_tpr, label=\"Train AUC =\"+str(auc(tr_fpr, tr_tpr)))\n",
    "plt.plot(tst_fpr, tst_tpr, label=\"Test AUC =\"+str(auc(tst_fpr, tst_tpr)))\n",
    "plt.grid() ; plt.legend()\n",
    "plt.xlabel(\"fpr\") ;plt.ylabel(\"tpr\") ;plt.title(\"ROC Curve\")\n",
    "plt.show()"
   ]
  },
  {
   "cell_type": "code",
   "execution_count": 44,
   "metadata": {
    "colab": {
     "base_uri": "https://localhost:8080/"
    },
    "id": "GoJnS40mBimm",
    "outputId": "b92af54c-eefe-49fc-9c13-da6a2fd144b2"
   },
   "outputs": [
    {
     "name": "stdout",
     "output_type": "stream",
     "text": [
      "Train confusion matrix\n",
      "[[61 29]\n",
      " [30 60]]\n",
      "----------------------------------------------------------------------------------------------------\n",
      "Test confusion matrix\n",
      "[[16  5]\n",
      " [ 4  5]]\n"
     ]
    }
   ],
   "source": [
    "def predict_(proba, threshould):\n",
    "    predictions = []\n",
    "    for i in proba:\n",
    "        if i>=threshould: predictions.append(1)\n",
    "        else:             predictions.append(0)\n",
    "    return predictions\n",
    "\n",
    "print(\"Train confusion matrix\")\n",
    "print(confusion_matrix(Y_Train, predict_(Y_train_pred, 0.5)))\n",
    "print(\"-\"*100)\n",
    "print(\"Test confusion matrix\")\n",
    "print(confusion_matrix(Y_Test, predict_(Y_test_pred, 0.5)))"
   ]
  },
  {
   "cell_type": "code",
   "execution_count": 45,
   "metadata": {
    "colab": {
     "base_uri": "https://localhost:8080/"
    },
    "id": "Fbc0_iXPBkjb",
    "outputId": "ab453be3-99b3-4b68-bbf0-9fcc79d00e70"
   },
   "outputs": [
    {
     "name": "stdout",
     "output_type": "stream",
     "text": [
      "for Train dataset\n",
      "------------------------------------------------------------\n",
      "Precisions for CLasses \"N\" and \"R\" are :  [0.67032967 0.6741573 ]\n",
      "Recalls for CLasses \"N\" and \"R\" are :  [0.67777778 0.66666667]\n",
      "Fscores for CLasses \"N\" and \"R\" are :  [0.67403315 0.67039106]\n",
      "===========================================================================\n",
      "for Test dataset\n",
      "------------------------------------------------------------\n",
      "Precisions for CLasses \"N\" and \"R\" are :  [0.8 0.5]\n",
      "Recalls for CLasses \"N\" and \"R\" are :  [0.76190476 0.55555556]\n",
      "Fscores for CLasses \"N\" and \"R\" are :  [0.7804878  0.52631579]\n"
     ]
    }
   ],
   "source": [
    "Tr = precision_recall_fscore_support(Y_Train, predict_(Y_train_pred, 0.5))\n",
    "Te = precision_recall_fscore_support(Y_Test, predict_(Y_test_pred, 0.5))\n",
    "\n",
    "print(\"for Train dataset\")\n",
    "print(\"-\"*60)\n",
    "print('Precisions for CLasses \"N\" and \"R\" are : ', Tr[0])\n",
    "print('Recalls for CLasses \"N\" and \"R\" are : ', Tr[1])\n",
    "print('Fscores for CLasses \"N\" and \"R\" are : ', Tr[2])\n",
    "\n",
    "print(\"=\"*75)\n",
    "print(\"for Test dataset\")\n",
    "print(\"-\"*60)\n",
    "print('Precisions for CLasses \"N\" and \"R\" are : ', Te[0])\n",
    "print('Recalls for CLasses \"N\" and \"R\" are : ', Te[1])\n",
    "print('Fscores for CLasses \"N\" and \"R\" are : ', Te[2])"
   ]
  },
  {
   "cell_type": "markdown",
   "metadata": {
    "id": "8PsBf4YxB1qJ"
   },
   "source": [
    "# Observation\n",
    "\n",
    "\n",
    "\n",
    "*   The Test-AUC score improved from 0.555 to 0.66\n",
    "*   The Test- Precision  improved from [0.7 0.3] to [0.8 0.5]\n",
    "* The Test- Recall  changed from [0.66666667 0.33333333] to [0.7619 0.55556]\n",
    "* The Test- FScores  chenged from [0.68292683 0.31578947] to [0.7804 0.5263]\n",
    "\n",
    "\n",
    "as observed, there were some minor improvements after using SMOTE"
   ]
  },
  {
   "cell_type": "code",
   "execution_count": null,
   "metadata": {},
   "outputs": [],
   "source": []
  }
 ],
 "metadata": {
  "colab": {
   "collapsed_sections": [],
   "name": "SMOTE.ipynb",
   "provenance": []
  },
  "kernelspec": {
   "display_name": "Python 3",
   "language": "python",
   "name": "python3"
  },
  "language_info": {
   "codemirror_mode": {
    "name": "ipython",
    "version": 3
   },
   "file_extension": ".py",
   "mimetype": "text/x-python",
   "name": "python",
   "nbconvert_exporter": "python",
   "pygments_lexer": "ipython3",
   "version": "3.8.8"
  }
 },
 "nbformat": 4,
 "nbformat_minor": 1
}
