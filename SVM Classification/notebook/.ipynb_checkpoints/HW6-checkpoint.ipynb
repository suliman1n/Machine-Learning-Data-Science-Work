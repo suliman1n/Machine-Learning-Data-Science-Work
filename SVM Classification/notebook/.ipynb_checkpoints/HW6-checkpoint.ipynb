{
 "cells": [
  {
   "cell_type": "markdown",
   "id": "d787bc1f",
   "metadata": {},
   "source": [
    "# HW6"
   ]
  },
  {
   "cell_type": "markdown",
   "id": "26dcc881",
   "metadata": {},
   "source": [
    "# Import the required libraries"
   ]
  },
  {
   "cell_type": "code",
   "execution_count": 4,
   "id": "32290303",
   "metadata": {},
   "outputs": [],
   "source": [
    "import pandas as pd\n",
    "from sklearn.model_selection import train_test_split\n",
    "from sklearn.metrics import hamming_loss\n",
    "from sklearn.metrics import accuracy_score\n",
    "from sklearn import svm\n",
    "from sklearn.model_selection import GridSearchCV\n",
    "from sklearn.model_selection import StratifiedKFold\n",
    "import numpy as np\n",
    "from sklearn import preprocessing\n",
    "from sklearn.metrics import hamming_loss\n",
    "from sklearn.preprocessing import MinMaxScaler\n",
    "import warnings\n",
    "warnings.filterwarnings(\"ignore\")\n",
    "from imblearn.over_sampling import SMOTE\n",
    "from sklearn.model_selection import train_test_split"
   ]
  },
  {
   "cell_type": "code",
   "execution_count": 5,
   "id": "5f441df4",
   "metadata": {},
   "outputs": [
    {
     "name": "stdout",
     "output_type": "stream",
     "text": [
      "      MFCCs_ 1  MFCCs_ 2  MFCCs_ 3  MFCCs_ 4  MFCCs_ 5  MFCCs_ 6  MFCCs_ 7  \\\n",
      "0          1.0  0.152936 -0.105586  0.200722  0.317201  0.260764  0.100945   \n",
      "1          1.0  0.171534 -0.098975  0.268425  0.338672  0.268353  0.060835   \n",
      "2          1.0  0.152317 -0.082973  0.287128  0.276014  0.189867  0.008714   \n",
      "3          1.0  0.224392  0.118985  0.329432  0.372088  0.361005  0.015501   \n",
      "4          1.0  0.087817 -0.068345  0.306967  0.330923  0.249144  0.006884   \n",
      "...        ...       ...       ...       ...       ...       ...       ...   \n",
      "7190       1.0 -0.554504 -0.337717  0.035533  0.034511  0.443451  0.093889   \n",
      "7191       1.0 -0.517273 -0.370574  0.030673  0.068097  0.402890  0.096628   \n",
      "7192       1.0 -0.582557 -0.343237  0.029468  0.064179  0.385596  0.114905   \n",
      "7193       1.0 -0.519497 -0.307553 -0.004922  0.072865  0.377131  0.086866   \n",
      "7194       1.0 -0.508833 -0.324106  0.062068  0.078211  0.397188  0.094596   \n",
      "\n",
      "      MFCCs_ 8  MFCCs_ 9  MFCCs_10  ...  MFCCs_17  MFCCs_18  MFCCs_19  \\\n",
      "0    -0.150063 -0.171128  0.124676  ... -0.108351 -0.077623 -0.009568   \n",
      "1    -0.222475 -0.207693  0.170883  ... -0.090974 -0.056510 -0.035303   \n",
      "2    -0.242234 -0.219153  0.232538  ... -0.050691 -0.023590 -0.066722   \n",
      "3    -0.194347 -0.098181  0.270375  ... -0.136009 -0.177037 -0.130498   \n",
      "4    -0.265423 -0.172700  0.266434  ... -0.048885 -0.053074 -0.088550   \n",
      "...        ...       ...       ...  ...       ...       ...       ...   \n",
      "7190 -0.100753  0.037087  0.081075  ...  0.069430  0.071001  0.021591   \n",
      "7191 -0.116460  0.063727  0.089034  ...  0.061127  0.068978  0.017745   \n",
      "7192 -0.103317  0.070370  0.081317  ...  0.082474  0.077771 -0.009688   \n",
      "7193 -0.115799  0.056979  0.089316  ...  0.051796  0.069073  0.017963   \n",
      "7194 -0.117672  0.058874  0.076180  ...  0.061455  0.072983 -0.003980   \n",
      "\n",
      "      MFCCs_20  MFCCs_21  MFCCs_22           Family      Genus  \\\n",
      "0     0.057684  0.118680  0.014038  Leptodactylidae  Adenomera   \n",
      "1     0.020140  0.082263  0.029056  Leptodactylidae  Adenomera   \n",
      "2    -0.025083  0.099108  0.077162  Leptodactylidae  Adenomera   \n",
      "3    -0.054766 -0.018691  0.023954  Leptodactylidae  Adenomera   \n",
      "4    -0.031346  0.108610  0.079244  Leptodactylidae  Adenomera   \n",
      "...        ...       ...       ...              ...        ...   \n",
      "7190  0.052449 -0.021860 -0.079860          Hylidae     Scinax   \n",
      "7191  0.046461 -0.015418 -0.101892          Hylidae     Scinax   \n",
      "7192  0.027834 -0.000531 -0.080425          Hylidae     Scinax   \n",
      "7193  0.041803 -0.027911 -0.096895          Hylidae     Scinax   \n",
      "7194  0.031560 -0.029355 -0.087910          Hylidae     Scinax   \n",
      "\n",
      "             Species  RecordID  \n",
      "0     AdenomeraAndre         1  \n",
      "1     AdenomeraAndre         1  \n",
      "2     AdenomeraAndre         1  \n",
      "3     AdenomeraAndre         1  \n",
      "4     AdenomeraAndre         1  \n",
      "...              ...       ...  \n",
      "7190     ScinaxRuber        60  \n",
      "7191     ScinaxRuber        60  \n",
      "7192     ScinaxRuber        60  \n",
      "7193     ScinaxRuber        60  \n",
      "7194     ScinaxRuber        60  \n",
      "\n",
      "[7195 rows x 26 columns]\n"
     ]
    }
   ],
   "source": [
    "data_MFC = pd.read_csv(r'C:\\Users\\Black Tornado0\\Desktop\\Git\\homework6-suliman1n\\data\\Frogs_MFCCs.csv')\n",
    "\n",
    "print(data_MFC)\n",
    "    \n"
   ]
  },
  {
   "cell_type": "markdown",
   "id": "18680663",
   "metadata": {},
   "source": [
    "# b(i),(ii) Train a SVM for each of the labels, using Gaussian kernels and one versus all classifiers. Determine the weight of the SVM penalty and the width of the Gaussian Kernel using 10 fold cross validation. You are welcome to try to solve the problem with both normalized and raw attributes and report the results"
   ]
  },
  {
   "cell_type": "code",
   "execution_count": 6,
   "id": "d60bbb8b",
   "metadata": {},
   "outputs": [],
   "source": [
    "def hammingLossResearchMultilabel(y_actual, y_prediction):\n",
    "    return hamming_loss(y_actual, y_prediction)"
   ]
  },
  {
   "cell_type": "code",
   "execution_count": 7,
   "id": "81afea28",
   "metadata": {},
   "outputs": [],
   "source": [
    "def preprocess_data():\n",
    "    labelencode = preprocessing.LabelEncoder()\n",
    "    labelencode.fit(data[\"Family\"])\n",
    "    data[\"Family\"]=labelencode.transform(data[\"Family\"])\n",
    "    \n",
    "    labelencode.fit(data[\"Genus\"])\n",
    "    data[\"Genus\"]=labelencode.transform(data[\"Genus\"])\n",
    "    \n",
    "    labelencode.fit(data[\"Species\"])\n",
    "    data[\"Species\"]=labelencode.transform(data[\"Species\"])\n",
    "    \n",
    "    return data"
   ]
  },
  {
   "cell_type": "code",
   "execution_count": 8,
   "id": "041ef247",
   "metadata": {},
   "outputs": [
    {
     "ename": "NameError",
     "evalue": "name 'data' is not defined",
     "output_type": "error",
     "traceback": [
      "\u001b[1;31m---------------------------------------------------------------------------\u001b[0m",
      "\u001b[1;31mNameError\u001b[0m                                 Traceback (most recent call last)",
      "\u001b[1;32m<ipython-input-8-b7e1976b9e20>\u001b[0m in \u001b[0;36m<module>\u001b[1;34m\u001b[0m\n\u001b[1;32m----> 1\u001b[1;33m \u001b[0mdata\u001b[0m\u001b[1;33m=\u001b[0m\u001b[0mpreprocess_data\u001b[0m\u001b[1;33m(\u001b[0m\u001b[1;33m)\u001b[0m\u001b[1;33m\u001b[0m\u001b[1;33m\u001b[0m\u001b[0m\n\u001b[0m",
      "\u001b[1;32m<ipython-input-7-3910c09aed08>\u001b[0m in \u001b[0;36mpreprocess_data\u001b[1;34m()\u001b[0m\n\u001b[0;32m      1\u001b[0m \u001b[1;32mdef\u001b[0m \u001b[0mpreprocess_data\u001b[0m\u001b[1;33m(\u001b[0m\u001b[1;33m)\u001b[0m\u001b[1;33m:\u001b[0m\u001b[1;33m\u001b[0m\u001b[1;33m\u001b[0m\u001b[0m\n\u001b[0;32m      2\u001b[0m     \u001b[0mlabelencode\u001b[0m \u001b[1;33m=\u001b[0m \u001b[0mpreprocessing\u001b[0m\u001b[1;33m.\u001b[0m\u001b[0mLabelEncoder\u001b[0m\u001b[1;33m(\u001b[0m\u001b[1;33m)\u001b[0m\u001b[1;33m\u001b[0m\u001b[1;33m\u001b[0m\u001b[0m\n\u001b[1;32m----> 3\u001b[1;33m     \u001b[0mlabelencode\u001b[0m\u001b[1;33m.\u001b[0m\u001b[0mfit\u001b[0m\u001b[1;33m(\u001b[0m\u001b[0mdata\u001b[0m\u001b[1;33m[\u001b[0m\u001b[1;34m\"Family\"\u001b[0m\u001b[1;33m]\u001b[0m\u001b[1;33m)\u001b[0m\u001b[1;33m\u001b[0m\u001b[1;33m\u001b[0m\u001b[0m\n\u001b[0m\u001b[0;32m      4\u001b[0m     \u001b[0mdata\u001b[0m\u001b[1;33m[\u001b[0m\u001b[1;34m\"Family\"\u001b[0m\u001b[1;33m]\u001b[0m\u001b[1;33m=\u001b[0m\u001b[0mlabelencode\u001b[0m\u001b[1;33m.\u001b[0m\u001b[0mtransform\u001b[0m\u001b[1;33m(\u001b[0m\u001b[0mdata\u001b[0m\u001b[1;33m[\u001b[0m\u001b[1;34m\"Family\"\u001b[0m\u001b[1;33m]\u001b[0m\u001b[1;33m)\u001b[0m\u001b[1;33m\u001b[0m\u001b[1;33m\u001b[0m\u001b[0m\n\u001b[0;32m      5\u001b[0m \u001b[1;33m\u001b[0m\u001b[0m\n",
      "\u001b[1;31mNameError\u001b[0m: name 'data' is not defined"
     ]
    }
   ],
   "source": [
    "data=preprocess_data()"
   ]
  },
  {
   "cell_type": "markdown",
   "id": "d383b140",
   "metadata": {},
   "source": [
    "# without normalization"
   ]
  },
  {
   "cell_type": "code",
   "execution_count": null,
   "id": "85d2a202",
   "metadata": {},
   "outputs": [],
   "source": [
    "def model_fit_metrics_without_normalization(name,trainx,trainy,testx,testy):\n",
    "    rangeofGamma = np.logspace(-3, 1, 5)\n",
    "    svc_model=svm.SVC(kernel='rbf')\n",
    "    parameter_set = { 'C':[1,2,3,4],'gamma':[x for x in rangeofGamma]}\n",
    "    clf = GridSearchCV(svc_model, parameter_set,cv=10)\n",
    "    clf.fit(trainx,trainy)\n",
    "    prediction=clf.predict(testx)\n",
    "    print('Hamming Loss for' +\" \"+name+' without Normalization:')\n",
    "    print(hammingLossResearchMultilabel(testy, prediction))\n",
    "    print('Exact Match for'+\" \"+name+' without Normalization:')\n",
    "    print(accuracy_score(testy, prediction))"
   ]
  },
  {
   "cell_type": "code",
   "execution_count": null,
   "id": "1eb4e7b2",
   "metadata": {},
   "outputs": [],
   "source": [
    "family_data=data.drop([\"Genus\",\"Species\",\"RecordID\"],axis=1)\n",
    "family_inputs=data.drop([\"Family\",\"Genus\",\"Species\",\"RecordID\"],axis=1)\n",
    "family_target=data[\"Family\"]\n",
    "familyXtrain, familyXtest,familyYtrain,familyYtest = train_test_split(family_inputs, family_target, test_size=0.3, random_state=42)"
   ]
  },
  {
   "cell_type": "code",
   "execution_count": null,
   "id": "4d24513b",
   "metadata": {},
   "outputs": [],
   "source": [
    "model_fit_metrics_without_normalization('family data',familyXtrain,familyYtrain,familyXtest,familyYtest)"
   ]
  },
  {
   "cell_type": "code",
   "execution_count": null,
   "id": "66615395",
   "metadata": {},
   "outputs": [],
   "source": [
    "genus_data=data.drop([\"Family\",\"Species\",\"RecordID\"],axis=1)\n",
    "genus_inputs=data.drop([\"Family\",\"Genus\",\"Species\",\"RecordID\"],axis=1)\n",
    "genus_target=list(data[\"Genus\"])\n",
    "genusXtrain, genusXtest, genusYtrain, genusYtest = train_test_split(genus_inputs, genus_target, test_size=0.3, random_state=42)"
   ]
  },
  {
   "cell_type": "code",
   "execution_count": null,
   "id": "cfe78cf7",
   "metadata": {},
   "outputs": [],
   "source": [
    "model_fit_metrics_without_normalization('genus data',genusXtrain, genusYtrain, genusXtest,genusYtest)"
   ]
  },
  {
   "cell_type": "code",
   "execution_count": null,
   "id": "9dfd3ad4",
   "metadata": {},
   "outputs": [],
   "source": [
    "species_data=data.drop([\"Family\",\"Genus\",\"RecordID\"],axis=1)\n",
    "species_inputs=data.drop([\"Family\",\"Genus\",\"Species\",\"RecordID\"],axis=1)\n",
    "species_target=list(data[\"Species\"])\n",
    "speciesXtrain, speciesXtest, speciesYtrain, speciesYtest = train_test_split(species_inputs, species_target, test_size=0.3, random_state=42)"
   ]
  },
  {
   "cell_type": "code",
   "execution_count": null,
   "id": "6607df1a",
   "metadata": {},
   "outputs": [],
   "source": [
    "model_fit_metrics_without_normalization('species data',speciesXtrain, speciesYtrain, speciesXtest,speciesYtest)"
   ]
  },
  {
   "cell_type": "markdown",
   "id": "7dde6ced",
   "metadata": {},
   "source": [
    "# With normalization"
   ]
  },
  {
   "cell_type": "code",
   "execution_count": null,
   "id": "3952060c",
   "metadata": {},
   "outputs": [],
   "source": [
    "def results_with_normalizer(name,trainx,trainy,testx,testy):\n",
    "    min_max_scaler = preprocessing.MinMaxScaler()\n",
    "    x_train_normalized=min_max_scaler.fit_transform(trainx)\n",
    "    x_test_normalized=min_max_scaler.fit_transform(testx)\n",
    "    rangeofGamma = np.logspace(-3, 1, 5)\n",
    "    svc_model=svm.SVC(kernel='rbf')\n",
    "    parameter_set = { 'C':[1,2,3,4],'gamma':[x for x in rangeofGamma]}\n",
    "    clf = GridSearchCV(svc_model, parameter_set,cv=10)\n",
    "    clf.fit(x_train_normalized,trainy)\n",
    "    prediction=clf.predict(x_test_normalized)\n",
    "    print('Hamming Loss for' +\" \"+name+' with Normalization:')\n",
    "    print(hammingLossResearchMultilabel(testy, prediction))\n",
    "    print('Exact Match for'+\" \"+name+' with Normalization:')\n",
    "    print(accuracy_score(testy, prediction))"
   ]
  },
  {
   "cell_type": "code",
   "execution_count": null,
   "id": "2734e99d",
   "metadata": {},
   "outputs": [],
   "source": [
    "results_with_normalizer('family data',familyXtrain,familyYtrain,familyXtest,familyYtest)"
   ]
  },
  {
   "cell_type": "code",
   "execution_count": null,
   "id": "d611abc3",
   "metadata": {},
   "outputs": [],
   "source": [
    "results_with_normalizer('genus data',genusXtrain, genusYtrain, genusXtest,genusYtest)"
   ]
  },
  {
   "cell_type": "code",
   "execution_count": null,
   "id": "57aa811d",
   "metadata": {},
   "outputs": [],
   "source": [
    "results_with_normalizer('species data',speciesXtrain, speciesYtrain, speciesXtest,speciesYtest)"
   ]
  },
  {
   "cell_type": "markdown",
   "id": "a4ff943d",
   "metadata": {},
   "source": [
    "# b(iii)"
   ]
  },
  {
   "cell_type": "code",
   "execution_count": null,
   "id": "15468cba",
   "metadata": {},
   "outputs": [],
   "source": [
    "def L1_penalized_results_with_normalizer(name,trainx,trainy,testx,testy):\n",
    "    min_max_scaler = preprocessing.MinMaxScaler()\n",
    "    x_train_normalized=min_max_scaler.fit_transform(trainx)\n",
    "    x_test_normalized=min_max_scaler.fit_transform(testx)\n",
    "    param_settings = { 'C':[1,2,3,4]}\n",
    "    clf = svm.LinearSVC(penalty='l1',dual=False)\n",
    "    crossval = StratifiedKFold(n_splits=10)\n",
    "    gridModel = GridSearchCV(clf, param_grid=param_settings, cv=crossval)\n",
    "    gridModel.fit(x_train_normalized,trainy)\n",
    "    prediction=gridModel.predict(x_test_normalized)\n",
    "    print('Hamming Loss for' +\" \"+name+' with Normalization:')\n",
    "    print(hammingLossResearchMultilabel(testy, prediction))\n",
    "    print('Accuracy Score for'+\" \"+name+' with Normalization:')\n",
    "    print(accuracy_score(testy, prediction))\n",
    "    return prediction"
   ]
  },
  {
   "cell_type": "code",
   "execution_count": null,
   "id": "b7d72a82",
   "metadata": {},
   "outputs": [],
   "source": [
    "family_pred=L1_penalized_results_with_normalizer('family data',familyXtrain,familyYtrain,familyXtest,familyYtest)"
   ]
  },
  {
   "cell_type": "code",
   "execution_count": null,
   "id": "3e55af52",
   "metadata": {},
   "outputs": [],
   "source": [
    "genus_pred=L1_penalized_results_with_normalizer('genus data',genusXtrain, genusYtrain, genusXtest,genusYtest)"
   ]
  },
  {
   "cell_type": "code",
   "execution_count": null,
   "id": "2c919318",
   "metadata": {},
   "outputs": [],
   "source": [
    "species_pred=L1_penalized_results_with_normalizer('species data',speciesXtrain, speciesYtrain, speciesXtest,speciesYtest)"
   ]
  },
  {
   "cell_type": "markdown",
   "id": "783b9ff7",
   "metadata": {},
   "source": [
    "# b(iv) "
   ]
  },
  {
   "cell_type": "code",
   "execution_count": null,
   "id": "36b17848",
   "metadata": {},
   "outputs": [],
   "source": [
    "def smote_model_with_results(name,trainx,trainy,testx,testy):\n",
    "    min_max_scaler = preprocessing.MinMaxScaler()\n",
    "    x_train_normalized=min_max_scaler.fit_transform(trainx)\n",
    "    x_test_normalized=min_max_scaler.fit_transform(testx)\n",
    "    sm = SMOTE(random_state=12)\n",
    "    train_x_sm,train_y_sm=sm.fit_resample(x_train_normalized,trainy)\n",
    "    param_settings = { 'C':[1]}\n",
    "    svm_model=svm.LinearSVC(penalty='l1',dual=False)\n",
    "    crossval = StratifiedKFold(n_splits=10)\n",
    "    gridModel = GridSearchCV(svm_model, param_grid=param_settings,cv=crossval)\n",
    "    gridModel.fit(train_x_sm,train_y_sm)\n",
    "    prediction=gridModel.predict(x_test_normalized)\n",
    "    print(\"Hamming Loss for\"+\" \"+name+\" is: \"+str(hammingLossResearchMultilabel(testy,prediction)))\n",
    "    print(\"Accuracy Score for\"+\" \"+name+\" is: \"+str(accuracy_score(testy,prediction)))"
   ]
  },
  {
   "cell_type": "code",
   "execution_count": null,
   "id": "a72df606",
   "metadata": {},
   "outputs": [],
   "source": [
    "smote_model_with_results('family data',familyXtrain,familyYtrain,familyXtest,familyYtest)"
   ]
  },
  {
   "cell_type": "code",
   "execution_count": null,
   "id": "25ee366b",
   "metadata": {},
   "outputs": [],
   "source": [
    "smote_model_with_results('genus data',genusXtrain, genusYtrain, genusXtest,genusYtest)"
   ]
  },
  {
   "cell_type": "code",
   "execution_count": null,
   "id": "429c23ea",
   "metadata": {},
   "outputs": [],
   "source": [
    "smote_model_with_results('species data',speciesXtrain, speciesYtrain, speciesXtest,speciesYtest)"
   ]
  },
  {
   "cell_type": "markdown",
   "id": "c7de3fa5",
   "metadata": {},
   "source": [
    "as observed, we got slightly better scores after using SMOTE"
   ]
  }
 ],
 "metadata": {
  "kernelspec": {
   "display_name": "Python 3",
   "language": "python",
   "name": "python3"
  },
  "language_info": {
   "codemirror_mode": {
    "name": "ipython",
    "version": 3
   },
   "file_extension": ".py",
   "mimetype": "text/x-python",
   "name": "python",
   "nbconvert_exporter": "python",
   "pygments_lexer": "ipython3",
   "version": "3.8.8"
  }
 },
 "nbformat": 4,
 "nbformat_minor": 5
}
