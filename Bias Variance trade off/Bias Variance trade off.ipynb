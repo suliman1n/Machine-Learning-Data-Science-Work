{
 "cells": [
  {
   "cell_type": "code",
   "execution_count": null,
   "id": "ab411245",
   "metadata": {},
   "outputs": [],
   "source": [
    "import numpy as np\n",
    "import matplotlib.pyplot as plt "
   ]
  },
  {
   "cell_type": "code",
   "execution_count": null,
   "id": "d535209c",
   "metadata": {},
   "outputs": [],
   "source": [
    "g_x=[]\n",
    "f_x=[]\n",
    "a=[0]*10000\n",
    "b=[0]*10000\n",
    "x=np.random.uniform(-1,1,10000)\n",
    "x1=np.random.uniform(-1,1,10000)\n",
    "x2=np.random.uniform(-1,1,10000)\n",
    "for i in range(10000):\n",
    "    f_x.append(x[i]**2)\n",
    "    \n",
    "\n",
    "for i in range(10000):\n",
    "    a[i]=x1[i]+x2[i]\n",
    "    b[i]=x1[i]*x2[i]\n",
    "    g_x.append(a[i]*x[i]-b[i])\n",
    "\n",
    "\n",
    "\n"
   ]
  },
  {
   "cell_type": "code",
   "execution_count": null,
   "id": "1abc8439",
   "metadata": {},
   "outputs": [],
   "source": [
    "a_bar=np.mean(a)\n",
    "b_bar=np.mean(b)\n",
    "gx_bar=a_bar*x-b_bar\n",
    "\n",
    "E_out=np.mean((np.array(g_x)-np.array(f_x))**2)\n",
    "var=np.mean((np.array(gx_bar)-np.array(g_x))**2)\n",
    "bias=np.mean((np.array(gx_bar)-np.array(f_x))**2)\n",
    "\n",
    "print('g(x)_bar=',a_bar,'x','+',-b_bar)\n",
    "print('E_out is:',E_out)\n",
    "print('variance is:',var,',bias is:',bias)\n",
    "print('bias+variance=',var+bias)"
   ]
  },
  {
   "cell_type": "code",
   "execution_count": null,
   "id": "88cf51e4",
   "metadata": {},
   "outputs": [],
   "source": [
    "plt.plot(x,gx_bar,label='average function g_bar(x)')\n",
    "plt.plot(np.arange(-1,1.1,0.1),np.arange(-1,1.1,0.1)**2,color='r',label='target function f(x)')\n",
    "plt.xlim([-1, 1])\n",
    "plt.legend()\n",
    "plt.show()"
   ]
  }
 ],
 "metadata": {
  "kernelspec": {
   "display_name": "Python 3",
   "language": "python",
   "name": "python3"
  },
  "language_info": {
   "codemirror_mode": {
    "name": "ipython",
    "version": 3
   },
   "file_extension": ".py",
   "mimetype": "text/x-python",
   "name": "python",
   "nbconvert_exporter": "python",
   "pygments_lexer": "ipython3",
   "version": "3.8.8"
  }
 },
 "nbformat": 4,
 "nbformat_minor": 5
}
